{
 "cells": [
  {
   "cell_type": "code",
   "execution_count": null,
   "metadata": {},
   "outputs": [],
   "source": [
    "#include <limits.h>\n",
    "void main()\n",
    "{\n",
    "    int a;\n",
    "    a=INT_MIN;\n",
    "    printf(\"%d\",a);\n",
    "}"
   ]
  },
  {
   "cell_type": "code",
   "execution_count": null,
   "metadata": {},
   "outputs": [],
   "source": [
    "#include <limits.h>\n",
    "void main()\n",
    "{\n",
    "    int i=65;\n",
    "    for(i=65;i<=90;i++)\n",
    "    printf(\"%c\",i);\n",
    "}"
   ]
  },
  {
   "cell_type": "code",
   "execution_count": null,
   "metadata": {},
   "outputs": [],
   "source": [
    "#include <limits.h>\n",
    "void main()\n",
    "{\n",
    "    int i;\n",
    "    for(i=0;i<=200;i++)\n",
    "    printf(\"%c=%d\",i,i);\n",
    "}\n"
   ]
  },
  {
   "cell_type": "code",
   "execution_count": null,
   "metadata": {},
   "outputs": [],
   "source": [
    "#include <limits.h>\n",
    "void main()\n",
    "{\n",
    "    printf(\"%d\",'@');\n",
    "}\n"
   ]
  },
  {
   "cell_type": "code",
   "execution_count": null,
   "metadata": {},
   "outputs": [],
   "source": [
    "#include <limits.h>\n",
    "void main()\n",
    "{\n",
    "    printf(\"abcd\\fxyz\");\n",
    "}\n"
   ]
  },
  {
   "cell_type": "code",
   "execution_count": null,
   "metadata": {},
   "outputs": [],
   "source": [
    "#include <limits.h>\n",
    "void main()\n",
    "{\n",
    "    printf(\"abcd\\\"xyz\");\n",
    "}\n"
   ]
  },
  {
   "cell_type": "code",
   "execution_count": null,
   "metadata": {},
   "outputs": [],
   "source": [
    "#include <limits.h>\n",
    "void main()\n",
    "{\n",
    "    int i=29;\n",
    "    printf(\"%o\",i);\n",
    "}\n"
   ]
  },
  {
   "cell_type": "code",
   "execution_count": null,
   "metadata": {},
   "outputs": [],
   "source": [
    "#include <limits.h>\n",
    "void main()\n",
    "{\n",
    "    int i=0x35;\n",
    "    printf(\"%d\",i);\n",
    "}\n"
   ]
  },
  {
   "cell_type": "code",
   "execution_count": null,
   "metadata": {},
   "outputs": [],
   "source": [
    "#include <limits.h>\n",
    "void main()\n",
    "{\n",
    "    printf(\"%d\",'b'+'a');\n",
    "}\n",
    "\n"
   ]
  },
  {
   "cell_type": "code",
   "execution_count": null,
   "metadata": {},
   "outputs": [],
   "source": []
  },
  {
   "cell_type": "code",
   "execution_count": null,
   "metadata": {},
   "outputs": [],
   "source": []
  },
  {
   "cell_type": "code",
   "execution_count": null,
   "metadata": {},
   "outputs": [],
   "source": []
  },
  {
   "cell_type": "code",
   "execution_count": null,
   "metadata": {},
   "outputs": [],
   "source": [
    "#include <limits.h>\n",
    "void main()\n",
    "{\n",
    "    int b,a=5;\n",
    "    printf(\"%d\",a++);\n",
    "    printf(\"%d\",a);\n",
    "}"
   ]
  },
  {
   "cell_type": "code",
   "execution_count": null,
   "metadata": {},
   "outputs": [],
   "source": [
    "#include <limits.h>\n",
    "void main()\n",
    "{\n",
    "    int a,b,c;\n",
    "    c=scanf(\"%d%d\",&a,&b);\n",
    "    printf(\"\\n%d\",c);\n",
    "}\n"
   ]
  },
  {
   "cell_type": "code",
   "execution_count": null,
   "metadata": {},
   "outputs": [],
   "source": [
    "#include <limits.h>\n",
    "void main()\n",
    "{\n",
    "   int a=5,b=7,c;\n",
    "   c=b||++a;\n",
    "   printf(\"%d\",a);\n",
    "}\n"
   ]
  },
  {
   "cell_type": "code",
   "execution_count": null,
   "metadata": {},
   "outputs": [],
   "source": [
    "#include <limits.h>\n",
    "void main()\n",
    "{\n",
    "   int a=5,b=7,c,d=0;\n",
    "   c=b||a&&d;\n",
    "   printf(\"%d\",c);\n",
    "}\n"
   ]
  },
  {
   "cell_type": "code",
   "execution_count": null,
   "metadata": {},
   "outputs": [],
   "source": [
    "#include <limits.h>\n",
    "void main()\n",
    "{\n",
    "    int a=5,b=0;\n",
    "    if(a!=b)\n",
    "    printf(\"yes\");\n",
    "    else\n",
    "    printf(\"no\");\n",
    "    printf(\"%d\",a);\n",
    "}\n"
   ]
  }
 ],
 "metadata": {
  "kernelspec": {
   "display_name": "Python 3",
   "language": "python",
   "name": "python3"
  },
  "language_info": {
   "codemirror_mode": {
    "name": "ipython",
    "version": 3
   },
   "file_extension": ".py",
   "mimetype": "text/x-python",
   "name": "python",
   "nbconvert_exporter": "python",
   "pygments_lexer": "ipython3",
   "version": "3.7.3"
  }
 },
 "nbformat": 4,
 "nbformat_minor": 2
}
