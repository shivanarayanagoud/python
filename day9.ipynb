{
 "cells": [
  {
   "cell_type": "code",
   "execution_count": null,
   "metadata": {},
   "outputs": [],
   "source": [
    "#include<stdio.h>\n",
    "void main()\n",
    "{\n",
    "    int a,b;\n",
    "    char op;\n",
    "    scanf(\"%d%d\",&a,&b);\n",
    "    scanf(\" %c\",&op);\n",
    "    switch(op)\n",
    "    {\n",
    "       case '+':printf(\"%d\",a+b);break;\n",
    "       case '-':printf(\"%d\",a-b);break;\n",
    "       case '*':printf(\"%d\",a*b);break;\n",
    "       case '/':printf(\"%d\",a/b);break;\n",
    "       case '%':printf(\"%d\",a%b);break;\n",
    "       default:printf(\"invalid option\");break;\n",
    "}\n",
    "}"
   ]
  },
  {
   "cell_type": "code",
   "execution_count": null,
   "metadata": {},
   "outputs": [],
   "source": [
    "#include<stdio.h>\n",
    "void main()\n",
    "{\n",
    "    int i;\n",
    "    for(i<1;i<20;i+=2);\n",
    "    printf(\"%d\",i);\n",
    "}"
   ]
  },
  {
   "cell_type": "code",
   "execution_count": null,
   "metadata": {},
   "outputs": [],
   "source": []
  },
  {
   "cell_type": "markdown",
   "metadata": {},
   "source": [
    "1.print the digits and count of a number\n",
    "2."
   ]
  },
  {
   "cell_type": "code",
   "execution_count": null,
   "metadata": {},
   "outputs": [],
   "source": [
    "#include<stdio.h>\n",
    "void main()\n",
    "{\n",
    "    int n,r;\n",
    "    scanf(\"%d\",&n);\n",
    "    while(n!=0)\n",
    "    {\n",
    "        r=n%10;\n",
    "        printf(\"%d\",r);\n",
    "        n=n/10;\n",
    "    }\n",
    "    }"
   ]
  },
  {
   "cell_type": "code",
   "execution_count": null,
   "metadata": {},
   "outputs": [],
   "source": [
    "#include<stdio.h>\n",
    "void main()\n",
    "{\n",
    "    int n,r,s=0;\n",
    "    scanf(\"%d\",&n);\n",
    "    while(n!=0)\n",
    "    {\n",
    "        r=n%10;\n",
    "        s=s*10+r;\n",
    "        n=n/10;\n",
    "    }\n",
    "    printf(\"%d\",s);\n",
    "}\n"
   ]
  },
  {
   "cell_type": "code",
   "execution_count": null,
   "metadata": {},
   "outputs": [],
   "source": [
    "#include<stdio.h>\n",
    "void main()\n",
    "{\n",
    "    int t,n,r,sum=0;\n",
    "    scanf(\"%d\",&n);\n",
    "    t=n;\n",
    "    while(n!=0)\n",
    "    {\n",
    "        r=n%10;\n",
    "        sum=sum*10+r;\n",
    "        n=n/10;\n",
    "    }\n",
    "    if(t==sum)\n",
    "    printf(\"palindrome \");\n",
    "    else\n",
    "    printf(\"not\");\n",
    "}\n"
   ]
  },
  {
   "cell_type": "code",
   "execution_count": null,
   "metadata": {},
   "outputs": [],
   "source": [
    "#include<stdio.h>\n",
    "void main()\n",
    "{\n",
    "    int t,n,r,sum=0;\n",
    "    scanf(\"%d\",&n);\n",
    "    t=n;\n",
    "    while(n!=0)\n",
    "    {\n",
    "        r=n%10;\n",
    "        sum=sum+r*r*r;\n",
    "        n=n/10;\n",
    "    }\n",
    "    if(t==sum)\n",
    "    printf(\"armstrong \");\n",
    "    else\n",
    "    printf(\"not\");\n",
    "}\n"
   ]
  },
  {
   "cell_type": "code",
   "execution_count": null,
   "metadata": {},
   "outputs": [],
   "source": [
    "#include <stdio.h>\n",
    "#include<math.h>\n",
    "void main()\n",
    "{\n",
    "    int t,n,r,sum,range,count=0,k;\n",
    "    scanf(\"%d\",&k);\n",
    "    for(n=0;count<k;n++)\n",
    "    {\n",
    "        t=n;\n",
    "        sum=0;\n",
    "        while(t!=0)\n",
    "        {\n",
    "            r=t%10;\n",
    "            sum=sum*10+r;\n",
    "            t=t/10;\n",
    "        }\n",
    "        if(sum==n)\n",
    "        {\n",
    "            count++;\n",
    "        }\n",
    "        printf(\"\\t%d=%d\",count,n-1);\n",
    "    }\n",
    "}"
   ]
  }
 ],
 "metadata": {
  "kernelspec": {
   "display_name": "Python 3",
   "language": "python",
   "name": "python3"
  },
  "language_info": {
   "codemirror_mode": {
    "name": "ipython",
    "version": 3
   },
   "file_extension": ".py",
   "mimetype": "text/x-python",
   "name": "python",
   "nbconvert_exporter": "python",
   "pygments_lexer": "ipython3",
   "version": "3.7.3"
  }
 },
 "nbformat": 4,
 "nbformat_minor": 2
}
